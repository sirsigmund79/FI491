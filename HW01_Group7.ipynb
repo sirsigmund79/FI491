{
 "cells": [
  {
   "cell_type": "markdown",
   "metadata": {},
   "source": [
    "# Homework 1"
   ]
  },
  {
   "cell_type": "markdown",
   "metadata": {},
   "source": [
    "## Question 1\n",
    "\n",
    "Find <u>three</u> different ways to add up all the numbers from 1 to 1000, inclusive.\n",
    "\n",
    "First, use the `sum` function. You should be able to write this in one line."
   ]
  },
  {
   "cell_type": "code",
   "execution_count": null,
   "metadata": {
    "scrolled": true
   },
   "outputs": [],
   "source": [
    "print(sum(range(1,1001)))"
   ]
  },
  {
   "cell_type": "markdown",
   "metadata": {},
   "source": [
    "Second, use a `for` loop. Write your code as a function, so a user can call it using (for example) `s2(1000)`."
   ]
  },
  {
   "cell_type": "code",
   "execution_count": null,
   "metadata": {},
   "outputs": [],
   "source": [
    "def s2(last_num):\n",
    "    sum = 0\n",
    "    for i in range(1, last_num+1):\n",
    "        sum += i\n",
    "    return sum\n",
    "s2(1000)"
   ]
  },
  {
   "cell_type": "markdown",
   "metadata": {},
   "source": [
    "Third, use a `while` loop. Again, write a function (call it `s3`)."
   ]
  },
  {
   "cell_type": "code",
   "execution_count": null,
   "metadata": {},
   "outputs": [],
   "source": [
    "def s3(last_num):\n",
    "    sum = 0\n",
    "    i = 1\n",
    "    while i <= last_num:\n",
    "        sum += i\n",
    "        i +=1\n",
    "    return sum\n",
    "s3(1000)"
   ]
  },
  {
   "cell_type": "markdown",
   "metadata": {},
   "source": [
    "Use `%timeit` to see how long each of the three approaches takes. Which method is fastest? How much faster is it?"
   ]
  },
  {
   "cell_type": "code",
   "execution_count": null,
   "metadata": {},
   "outputs": [],
   "source": [
    "sum_result = %timeit -o (sum(range(1,1001)))\n",
    "s2_result = %timeit -o s2(1000)\n",
    "s3_result = %timeit -o s3(1000)\n",
    "results = {\"sum method\":sum_result.best, \"for loop method\":s2_result.best, \"while loop method\":s3_result.best}"
   ]
  },
  {
   "cell_type": "markdown",
   "metadata": {},
   "source": [
    "How can we capture these results? [Here's](https://stackoverflow.com/questions/17310752/can-you-capture-the-output-of-ipythons-magic-methods-timeit) a useful answer on stackoverflow."
   ]
  },
  {
   "cell_type": "code",
   "execution_count": null,
   "metadata": {},
   "outputs": [],
   "source": [
    "fastest_time = min(results.values())\n",
    "slowest_time = max(results.values())\n",
    "print(\"The fastest method worked in\", fastest_time, \"seconds\")\n",
    "print(\"That's\", slowest_time - fastest_time, \"seconds faster than the slowest method, at\", slowest_time, \"seconds.\")"
   ]
  },
  {
   "cell_type": "markdown",
   "metadata": {},
   "source": [
    "## Question 2\n",
    "\n",
    "The function `F2` that we created in class isn’t quite correct because `F2(0)` returns `1` instead of `0`. Fix this.\n",
    "\n",
    "Also, alter the function so that if anything other than a positive integer is given as the input, the function prints an error message and returns `None`."
   ]
  },
  {
   "cell_type": "code",
   "execution_count": null,
   "metadata": {},
   "outputs": [],
   "source": [
    "def F2(n):\n",
    "    try:\n",
    "        if n > 0:\n",
    "            a, b = 1, 1\n",
    "            for i in range(n-1):\n",
    "                a, b = b, a+b\n",
    "            return a\n",
    "        else:\n",
    "            print(\"Error. Input a number greater than 0\")\n",
    "    except:\n",
    "        print(\"At least make it an integer!\")\n",
    "        \n",
    "\n",
    "F2(100)"
   ]
  },
  {
   "cell_type": "code",
   "execution_count": null,
   "metadata": {},
   "outputs": [],
   "source": [
    "result = F2(5.1)"
   ]
  },
  {
   "cell_type": "code",
   "execution_count": null,
   "metadata": {},
   "outputs": [],
   "source": [
    "result"
   ]
  },
  {
   "cell_type": "code",
   "execution_count": null,
   "metadata": {},
   "outputs": [],
   "source": [
    "result2 = F2(10.2)"
   ]
  },
  {
   "cell_type": "code",
   "execution_count": null,
   "metadata": {},
   "outputs": [],
   "source": [
    "result2 is None"
   ]
  },
  {
   "cell_type": "code",
   "execution_count": null,
   "metadata": {},
   "outputs": [],
   "source": [
    "type(result2)"
   ]
  },
  {
   "cell_type": "markdown",
   "metadata": {},
   "source": [
    "## Question 3\n",
    "\n",
    "Write a function that returns a letter grade from a number using the following rules:\n",
    "\n",
    "Score (%) | Grade\n",
    ":--------:|:--:\n",
    ">90       | A\n",
    ">80       | B\n",
    ">70       | C\n",
    ">60       | D\n",
    "<=60      | F\n",
    "\n",
    "\n",
    "The function should take a score and an optional value for the denominator. (The default value of the denominator should be 100.) Some example calls:\n",
    "\n",
    "    In  []: grade(95)\n",
    "    Out []: A\n",
    "    \n",
    "    In  []: grade(40.5, denom=50)\n",
    "    Out []: B\n",
    "\n",
    "    In  []: grade('Janet')\n",
    "    Out []: Please enter a numeric Grade\n",
    "\n"
   ]
  },
  {
   "cell_type": "code",
   "execution_count": null,
   "metadata": {},
   "outputs": [],
   "source": [
    "# Didn't need to add the alpha_grade variable but did it to demonstrate how variable assignment works to my group\n",
    "def grade(num, denom=100):\n",
    "    try:\n",
    "        if num >= 0:\n",
    "            score = num/denom\n",
    "            alpha_grade = ''\n",
    "            if score > .90:\n",
    "                alpha_grade = 'A'\n",
    "            elif score > .80:\n",
    "                alpha_grade = 'B'\n",
    "            elif score > .70:\n",
    "                alpha_grade = 'C'\n",
    "            elif score > .60:\n",
    "                alpha_grade = 'D'\n",
    "            else:\n",
    "                alpha_grade = 'F'\n",
    "            return alpha_grade\n",
    "        else:\n",
    "            return('No way they scored less than zero')\n",
    "            \n",
    "    except:\n",
    "        return('Please enter a numeric Grade')\n",
    "        \n",
    "        "
   ]
  },
  {
   "cell_type": "code",
   "execution_count": null,
   "metadata": {},
   "outputs": [],
   "source": [
    "grade(95)"
   ]
  },
  {
   "cell_type": "code",
   "execution_count": null,
   "metadata": {},
   "outputs": [],
   "source": [
    "grade(40.5, denom=50)"
   ]
  },
  {
   "cell_type": "code",
   "execution_count": null,
   "metadata": {},
   "outputs": [],
   "source": [
    "grade(40.5, 50)"
   ]
  },
  {
   "cell_type": "code",
   "execution_count": null,
   "metadata": {},
   "outputs": [],
   "source": [
    "grade(-3)"
   ]
  },
  {
   "cell_type": "code",
   "execution_count": null,
   "metadata": {},
   "outputs": [],
   "source": [
    "grade('Janet')"
   ]
  },
  {
   "cell_type": "markdown",
   "metadata": {},
   "source": [
    "## Question 4\n",
    "\n",
    "Create a virtual deck of cards by storing 52 string values in a list named deck. There are 4 suits (hearts, diamonds, clubs, spades) and 13 cards Ace, 2, 3, ..., 10, J, Q, K. For example, one card might be AS (representing the Ace of Spades) or 10H (10 of Hearts).\n",
    "\n",
    "Hint: You will probably want to use two for loops to do this."
   ]
  },
  {
   "cell_type": "code",
   "execution_count": null,
   "metadata": {},
   "outputs": [],
   "source": [
    "suits = ['C', 'D', 'H', 'S']\n",
    "cards = ['A', 2, 3, 4, 5, 6, 7, 8, 9, 10, 'J', 'Q', 'K']\n",
    "deck = []\n",
    "for suit in suits:\n",
    "    for card in cards:\n",
    "        deck.append(str(card) + str(suit))"
   ]
  },
  {
   "cell_type": "code",
   "execution_count": null,
   "metadata": {
    "scrolled": true
   },
   "outputs": [],
   "source": [
    "print(deck)"
   ]
  },
  {
   "cell_type": "markdown",
   "metadata": {},
   "source": [
    "Deal one hand by shuffling your cards and taking five cards off the top (ie, the beginning) of the deck. Store these cards in a variable called \"hand\". Be sure to actually remove the cards from the deck!"
   ]
  },
  {
   "cell_type": "code",
   "execution_count": null,
   "metadata": {},
   "outputs": [],
   "source": [
    "# Broke up shuffle and deal into 2 blocks for debugging\n",
    "from random import shuffle\n",
    "hand = []\n",
    "shuffle(deck)\n",
    "print(deck)"
   ]
  },
  {
   "cell_type": "code",
   "execution_count": null,
   "metadata": {},
   "outputs": [],
   "source": [
    "for i in deck[0:5]:\n",
    "    hand.append(i)\n",
    "    deck.remove(i)\n",
    "print(hand)\n",
    "print(deck)"
   ]
  }
 ],
 "metadata": {
  "kernelspec": {
   "display_name": "Python 3",
   "language": "python",
   "name": "python3"
  },
  "language_info": {
   "codemirror_mode": {
    "name": "ipython",
    "version": 3
   },
   "file_extension": ".py",
   "mimetype": "text/x-python",
   "name": "python",
   "nbconvert_exporter": "python",
   "pygments_lexer": "ipython3",
   "version": "3.7.3"
  }
 },
 "nbformat": 4,
 "nbformat_minor": 2
}

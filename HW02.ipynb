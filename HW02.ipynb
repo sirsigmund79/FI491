{
 "cells": [
  {
   "cell_type": "markdown",
   "metadata": {},
   "source": [
    "# Homework 2"
   ]
  },
  {
   "cell_type": "markdown",
   "metadata": {},
   "source": [
    "## Question 1\n",
    "\n",
    "Write a function that returns the name of a company for a given ticker symbol. \n",
    "\n",
    "You should scrape the data from Yahoo! Finance. [Here's an example page](https://finance.yahoo.com/quote/WMT/profile) using Walmart. Start by making your function modify the URL so it works for other ticker symbols. Then, look at the HTML source to find the pattern that you must search for to extract the company name. (Hint: it appears in the html in multiple places, some easier than others to extract).\n",
    "\n",
    "I've started the function for you here. Modify/complete the function."
   ]
  },
  {
   "cell_type": "code",
   "execution_count": 1,
   "metadata": {},
   "outputs": [],
   "source": [
    "def unescape(s):\n",
    "    s = s.replace('&#x27;', \"'\")\n",
    "    s = s.replace('&amp', '&')\n",
    "    return s\n",
    "\n",
    "def get_name(ticker):\n",
    "    import requests, re\n",
    "    \n",
    "    # put the URL here. Make sure it uses the ticker provided when the function is called \n",
    "    url = 'https://finance.yahoo.com/quote/{0}/profile'.format(ticker)\n",
    " \n",
    "    \n",
    "    # download\n",
    "    req = requests.get(url)\n",
    "    html = req.text\n",
    "\n",
    "    \n",
    "    try:\n",
    "        # use a regular expression to find the name\n",
    "        # (finish/modify the code)\n",
    "        title_search = re.findall(r'<title>(.*?)</title>', html)\n",
    "        str_title = title_search[0]\n",
    "        str_title = unescape(str_title)\n",
    "        stop_index = str_title.index('(')\n",
    "        return str_title[0:stop_index]\n",
    "\n",
    "    except:\n",
    "#         if the regular expression fails, do nothing\n",
    "        pass"
   ]
  },
  {
   "cell_type": "markdown",
   "metadata": {},
   "source": [
    "Test your function using these tickers: `ADM`, `AMZN`, `MMM`, `M`, and `WMT`. Be sure it works as expected."
   ]
  },
  {
   "cell_type": "code",
   "execution_count": 2,
   "metadata": {},
   "outputs": [
    {
     "name": "stdout",
     "output_type": "stream",
     "text": [
      "Archer-Daniels-Midland Company \n",
      "Amazon.com, Inc. \n",
      "3M Company \n",
      "Macy's Inc \n",
      "Walmart Inc. \n"
     ]
    }
   ],
   "source": [
    "print(get_name('ADM'))\n",
    "print(get_name('AMZN'))\n",
    "print(get_name('MMM'))\n",
    "print(get_name('M'))\n",
    "print(get_name('WMT'))"
   ]
  },
  {
   "cell_type": "markdown",
   "metadata": {},
   "source": [
    "## Question 2\n",
    "Write a function that uses the same web page of data to find the address of the company's headquarters.\n",
    "\n",
    "For example, your function should work as follows:\n",
    "\n",
    "    In  []: get_address('TSLA')\n",
    "    Out []: '3500 Deer Creek Road, Palo Alto, CA, 94304'\n",
    "    \n",
    "Be sure to test your function with some other stock tickers.\n",
    "\n",
    "Hint: You'll probably want to capture different parts of the address (street address, city, state, zip) separately and then join them together into a string separated by commas before returning a value. Search through the html to see where the different parts appear."
   ]
  },
  {
   "cell_type": "code",
   "execution_count": 3,
   "metadata": {},
   "outputs": [],
   "source": [
    "def get_address(ticker):\n",
    "    import requests, re\n",
    "    \n",
    "    # download file using the url for the right ticker (like in Q2)\n",
    "    url = 'https://finance.yahoo.com/quote/{0}/profile?p={0}'.format(ticker, ticker)\n",
    "\n",
    " \n",
    "    # download\n",
    "    req = requests.get(url)\n",
    "    html = req.text\n",
    "    \n",
    "    try:\n",
    "        # here you should be using a regular expression like in Q2, but try to capture the individual address components.\n",
    "        # combine them into a string and return the string\n",
    "        street_add= re.findall(r'<!-- react-text: 9 -->(.*?)<', html)[0]\n",
    "        city_state_zip = re.findall(r'<!-- react-text: 11 -->(.*?)<', html)[0]\n",
    "        return unescape((street_add + ', ' + city_state_zip))\n",
    "    except:\n",
    "        pass"
   ]
  },
  {
   "cell_type": "code",
   "execution_count": 4,
   "metadata": {},
   "outputs": [
    {
     "data": {
      "text/plain": [
       "'410 Terry Avenue North, Seattle, WA 98109'"
      ]
     },
     "execution_count": 4,
     "metadata": {},
     "output_type": "execute_result"
    }
   ],
   "source": [
    "get_address('AMZN')"
   ]
  },
  {
   "cell_type": "code",
   "execution_count": 5,
   "metadata": {},
   "outputs": [
    {
     "data": {
      "text/plain": [
       "'One American Road, Dearborn, MI 48126'"
      ]
     },
     "execution_count": 5,
     "metadata": {},
     "output_type": "execute_result"
    }
   ],
   "source": [
    "get_address('F')"
   ]
  },
  {
   "cell_type": "code",
   "execution_count": 6,
   "metadata": {},
   "outputs": [
    {
     "data": {
      "text/plain": [
       "'2000 North M-63, Benton Harbor, MI 49022'"
      ]
     },
     "execution_count": 6,
     "metadata": {},
     "output_type": "execute_result"
    }
   ],
   "source": [
    "get_address('WHR')"
   ]
  },
  {
   "cell_type": "markdown",
   "metadata": {},
   "source": [
    "## Question 3\n",
    "\n",
    "Now I want you to write a *geolocating* function that takes a ticker symbol and returns the latitude and longitude of the firm's headquarters. To do this, we will use Mapquest's API (<b>A</b>pplication <b>P</b>rogramming <b>I</b>nterface), which is a web-based system for providing raw data rather than HTML pages.\n",
    "\n",
    "Before accessing the API you need to create an account which generates an API Key. The account is free and allows you to make a limited number of queries. To sign up, go [here](https://developer.mapquest.com/user/register) and choose Sign Up. You are assigned a key when you register. It will look something like this: \n",
    "\n",
    "<pre>zAWt8Aye6YvhIupZMzctaAfkSkEnaccN</pre>\n",
    "\n",
    "Once you have created your key, you can query the API using a URL like this:\n",
    "\n",
    "http://www.mapquestapi.com/geocoding/v1/address?key=API_KEY&location=1309+E+10th+Street%2C+Bloomington%2C+IN%2C+47401\n",
    "\n",
    "(This link won't work until you replace `API_KEY` with your personal key.)\n",
    "\n",
    "Notice there is a special formatting to deal with spaces and other punctuation. An easy way to request a web site like this is as follows:"
   ]
  },
  {
   "cell_type": "code",
   "execution_count": 179,
   "metadata": {},
   "outputs": [
    {
     "data": {
      "text/plain": [
       "'{\"info\":{\"statuscode\":0,\"copyright\":{\"text\":\"\\\\u00A9 2020 MapQuest, Inc.\",\"imageUrl\":\"http://api.mqcdn.com/res/mqlogo.gif\",\"imageAltText\":\"\\\\u00A9 2020 MapQuest, Inc.\"},\"messages\":[]},\"options\":{\"maxResults\":-1,\"thumbMaps\":true,\"ignoreLatLngInput\":false},\"results\":[{\"providedLocation\":{\"location\":\"1309 E 10th Street, Bloomington, IN, 47401\"},\"locations\":[{\"street\":\"1309 E 10th St\",\"adminArea6\":\"\",\"adminArea6Type\":\"Neighborhood\",\"adminArea5\":\"Bloomington\",\"adminArea5Type\":\"City\",\"adminArea4\":\"Monroe\",\"adminArea4Type\":\"County\",\"adminArea3\":\"IN\",\"adminArea3Type\":\"State\",\"adminArea1\":\"US\",\"adminArea1Type\":\"Country\",\"postalCode\":\"47405-1701\",\"geocodeQualityCode\":\"L1AAB\",\"geocodeQuality\":\"ADDRESS\",\"dragPoint\":false,\"sideOfStreet\":\"L\",\"linkId\":\"rnr3442633|i21368598\",\"unknownInput\":\"\",\"type\":\"s\",\"latLng\":{\"lat\":39.171598,\"lng\":-86.517943},\"displayLatLng\":{\"lat\":39.171798,\"lng\":-86.517941},\"mapUrl\":\"http://www.mapquestapi.com/staticmap/v5/map?key=7eA2xBsCAHvN9XAlODv9Jkw8EqDXTqho&type=map&size=225,160&locations=39.171598,-86.517943|marker-sm-50318A-1&scalebar=true&zoom=15&rand=1313670510\"}]}]}'"
      ]
     },
     "execution_count": 179,
     "metadata": {},
     "output_type": "execute_result"
    }
   ],
   "source": [
    "import requests\n",
    "API_KEY='7eA2xBsCAHvN9XAlODv9Jkw8EqDXTqho'     # make sure to replace this with your own key\n",
    "url = 'http://www.mapquestapi.com/geocoding/v1/address'\n",
    "params = {'key': API_KEY, 'location': '1309 E 10th Street, Bloomington, IN, 47401'}\n",
    "requests.get(url, params=params).text"
   ]
  },
  {
   "cell_type": "markdown",
   "metadata": {},
   "source": [
    "The response from the server is data from the database stored in JSON format. But you can ignore that it's JSON and just use a regular expression to find the pattern you're looking for.\n",
    "\n",
    "As an example, your code should return a tuple *exactly* like this:\n",
    "\n",
    "    In  [2]: geolocate('TSLA')\n",
    "    Out [2]: (37.394738, -122.149112, '3500 Deer Creek Road, Palo Alto, CA, 94304')\n",
    "    \n",
    "That is, it returns a tuple with the latitude, longitude, and address.\n",
    "\n",
    "Use the template below to write the function. The function you write for this question should start by calling the function you wrote in Q2 to get the address. You can then use this with the API to get the location"
   ]
  },
  {
   "cell_type": "code",
   "execution_count": 7,
   "metadata": {},
   "outputs": [],
   "source": [
    "API_KEY = '7eA2xBsCAHvN9XAlODv9Jkw8EqDXTqho'  # replace this with your own key"
   ]
  },
  {
   "cell_type": "code",
   "execution_count": 8,
   "metadata": {},
   "outputs": [],
   "source": [
    "def geolocate(ticker):\n",
    "    import requests, re\n",
    "    \n",
    "    addr = get_address(ticker)\n",
    "    \n",
    "    url = 'http://www.mapquestapi.com/geocoding/v1/address'\n",
    "    params = {'key': API_KEY, 'location': addr}      # need to include address here\n",
    "    html = requests.get(url, params=params).text\n",
    "\n",
    "    try:\n",
    "                                # extract the latitude and longitude from the webpage using a regular expression\n",
    "        lat = float(re.findall(r'\"lat\":(.*?),', html)[0])\n",
    "        lng = float(re.findall(r'\"lng\":(.*?)}', html)[0])\n",
    "                        \n",
    "        return(lat, lng, addr)\n",
    "    except:\n",
    "        print('Unable to find coordinates')"
   ]
  },
  {
   "cell_type": "code",
   "execution_count": 10,
   "metadata": {},
   "outputs": [
    {
     "data": {
      "text/plain": [
       "(37.394802, -122.149157, '3500 Deer Creek Road, Palo Alto, CA 94304')"
      ]
     },
     "execution_count": 10,
     "metadata": {},
     "output_type": "execute_result"
    }
   ],
   "source": [
    "geolocate('TSLA')"
   ]
  },
  {
   "cell_type": "markdown",
   "metadata": {},
   "source": [
    "## Question 4\n",
    "\n",
    "Now let's say we want to calculate the distance between two corporate headquarters.\n",
    "\n",
    "Given two pairs of latitude and longitude, $(\\varphi_1, \\lambda_1)$ and $(\\varphi_2, \\lambda_2)$, we can calculate the distance between them using the [Haversine formula](https://en.wikipedia.org/wiki/Haversine_formula#The_haversine_formula):\n",
    "\n",
    "$${\\displaystyle d=2r\\arcsin \\left({\\sqrt {\\operatorname {hav} (\\varphi _{2}-\\varphi _{1})+\\cos(\\varphi _{1})\\cos(\\varphi _{2})\\operatorname {hav} (\\lambda _{2}-\\lambda _{1})}}\\right)}$$\n",
    "\n",
    "where $d$ is the distance, $\\operatorname{hav}$ is the Haversine function, $$\\operatorname {hav} (\\theta )=\\sin ^{2}\\left({\\frac {\\theta }{2}}\\right),$$ and $r$ is the radius of the earth ([3958.7613 miles](https://en.wikipedia.org/wiki/Earth_radius#Mean_radius)). Note that this formula requires that the latitude and longitude are given in *radians*, not the degrees that Mapquest gives.\n",
    "\n",
    "Use the template below to write a function that takes two ticker symbols and returns the distance between the headquarters of the two firms. Note that the python function for $\\arcsin$ is `asin`."
   ]
  },
  {
   "cell_type": "code",
   "execution_count": 11,
   "metadata": {},
   "outputs": [],
   "source": [
    "def haversine(theta):\n",
    "    '''Haversine function'''\n",
    "    from math import sin\n",
    "    return  (sin(theta/2)**2)                 # enter the haversine function (from above) return the value for a given theta\n",
    "\n",
    "def firm_dist(ticker1, ticker2):\n",
    "    '''Returns the distance in miles between two firm HQs'''\n",
    "    \n",
    "    from math import radians, cos, sin, asin, sqrt\n",
    "    \n",
    "    # get lat/lng of two tickers by calling function in Q3\n",
    "    # We're using the underscore because the function we wrote in Q3 returns three values\n",
    "    # and the underscore just means discard that value (we don't need it)\n",
    "    lat1, lng1, _  = geolocate(ticker1)\n",
    "    lat2, lng2, _  = geolocate(ticker2)\n",
    "        \n",
    "    # change degrees to radians using the radians function we imported\n",
    "    # hint: use the map function\n",
    "    lat1, lng1, lat2, lng2 = map( radians, (lat1, lng1, lat2, lng2))\n",
    "\n",
    "    r = 3958.7613\n",
    "    \n",
    "    return  2 * r * asin( sqrt(haversine(lat2-lat1)+(cos(lat1)*cos(lat2)*haversine(lng2-lng1))))    # I've started the distance function for you.  Finish it"
   ]
  },
  {
   "cell_type": "code",
   "execution_count": 12,
   "metadata": {},
   "outputs": [
    {
     "name": "stdout",
     "output_type": "stream",
     "text": [
      "Google and Facebook are 5.4 miles apart\n"
     ]
    }
   ],
   "source": [
    "d = firm_dist('GOOG', 'FB')\n",
    "\n",
    "print(f'Google and Facebook are {d:.1f} miles apart')"
   ]
  },
  {
   "cell_type": "code",
   "execution_count": null,
   "metadata": {},
   "outputs": [],
   "source": []
  }
 ],
 "metadata": {
  "kernelspec": {
   "display_name": "Python 3",
   "language": "python",
   "name": "python3"
  },
  "language_info": {
   "codemirror_mode": {
    "name": "ipython",
    "version": 3
   },
   "file_extension": ".py",
   "mimetype": "text/x-python",
   "name": "python",
   "nbconvert_exporter": "python",
   "pygments_lexer": "ipython3",
   "version": "3.7.3"
  }
 },
 "nbformat": 4,
 "nbformat_minor": 2
}
